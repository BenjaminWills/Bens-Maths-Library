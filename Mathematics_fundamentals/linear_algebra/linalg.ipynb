{
 "cells": [
  {
   "cell_type": "markdown",
   "metadata": {},
   "source": [
    "# Linear algebra library showcase"
   ]
  },
  {
   "cell_type": "code",
   "execution_count": 1,
   "metadata": {},
   "outputs": [],
   "source": [
    "import sys\n",
    "sys.path.append('/Users/benwills/Desktop/personal_projects/Mathematics_fundamentals')\n",
    "\n",
    "\n",
    "from linear_algebra import Linalg\n",
    "lin = Linalg()"
   ]
  },
  {
   "cell_type": "markdown",
   "metadata": {},
   "source": [
    "### Solving a linear system of equations for a column vector.\n",
    "\n",
    "Here we solve the equation $Ax=b$. Where $A\\in R^{n \\times n}$ and $x\\in R^{n}$, we require also that $det(A)=0$, so that each system has one solution."
   ]
  },
  {
   "cell_type": "code",
   "execution_count": 4,
   "metadata": {},
   "outputs": [
    {
     "data": {
      "text/plain": [
       "[[0.3], [0.08888888888888896], [0.03333333333333327]]"
      ]
     },
     "execution_count": 4,
     "metadata": {},
     "output_type": "execute_result"
    }
   ],
   "source": [
    "A = [\n",
    "    [2,3,4],\n",
    "    [5,3,7],\n",
    "    [9,3,1]\n",
    "]\n",
    "\n",
    "b = [\n",
    "    [1],\n",
    "    [2],\n",
    "    [3]\n",
    "]\n",
    "\n",
    "x = lin.solve_system_of_equations(A,b)\n",
    "x"
   ]
  },
  {
   "cell_type": "markdown",
   "metadata": {},
   "source": []
  }
 ],
 "metadata": {
  "kernelspec": {
   "display_name": "Python 3.9.13 ('bensvirtualenvironment': venv)",
   "language": "python",
   "name": "python3"
  },
  "language_info": {
   "codemirror_mode": {
    "name": "ipython",
    "version": 3
   },
   "file_extension": ".py",
   "mimetype": "text/x-python",
   "name": "python",
   "nbconvert_exporter": "python",
   "pygments_lexer": "ipython3",
   "version": "3.9.13"
  },
  "orig_nbformat": 4,
  "vscode": {
   "interpreter": {
    "hash": "f8a31677c4ff857f8bee18d7d81cec5c2df9d0e75d6129ed9c6facd453b7acc6"
   }
  }
 },
 "nbformat": 4,
 "nbformat_minor": 2
}
